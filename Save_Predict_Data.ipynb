{
 "cells": [
  {
   "cell_type": "code",
   "execution_count": 1,
   "id": "783aee06",
   "metadata": {},
   "outputs": [],
   "source": [
    "import pandas as pd\n",
    "import pickle\n",
    "import os\n",
    "from sklearn.preprocessing import MinMaxScaler\n",
    "import tensorflow as tf"
   ]
  },
  {
   "cell_type": "code",
   "execution_count": 2,
   "id": "4ab92669",
   "metadata": {},
   "outputs": [],
   "source": [
    "train_df = pd.read_csv('Data/df_train.csv')"
   ]
  },
  {
   "cell_type": "code",
   "execution_count": 3,
   "id": "1755d20a",
   "metadata": {},
   "outputs": [
    {
     "data": {
      "text/html": [
       "<div>\n",
       "<style scoped>\n",
       "    .dataframe tbody tr th:only-of-type {\n",
       "        vertical-align: middle;\n",
       "    }\n",
       "\n",
       "    .dataframe tbody tr th {\n",
       "        vertical-align: top;\n",
       "    }\n",
       "\n",
       "    .dataframe thead th {\n",
       "        text-align: right;\n",
       "    }\n",
       "</style>\n",
       "<table border=\"1\" class=\"dataframe\">\n",
       "  <thead>\n",
       "    <tr style=\"text-align: right;\">\n",
       "      <th></th>\n",
       "      <th>WC</th>\n",
       "      <th>DUW</th>\n",
       "      <th>GC</th>\n",
       "      <th>AF</th>\n",
       "      <th>C</th>\n",
       "      <th>LB</th>\n",
       "      <th>LKpa</th>\n",
       "      <th>TMin</th>\n",
       "      <th>DR</th>\n",
       "      <th>DB</th>\n",
       "      <th>Sett</th>\n",
       "    </tr>\n",
       "  </thead>\n",
       "  <tbody>\n",
       "    <tr>\n",
       "      <th>0</th>\n",
       "      <td>6.0</td>\n",
       "      <td>17.0</td>\n",
       "      <td>12.0</td>\n",
       "      <td>38.5</td>\n",
       "      <td>0.0</td>\n",
       "      <td>1.0</td>\n",
       "      <td>200.0</td>\n",
       "      <td>42.0</td>\n",
       "      <td>44.835703</td>\n",
       "      <td>0.936833</td>\n",
       "      <td>0.082</td>\n",
       "    </tr>\n",
       "    <tr>\n",
       "      <th>1</th>\n",
       "      <td>6.0</td>\n",
       "      <td>17.0</td>\n",
       "      <td>12.0</td>\n",
       "      <td>38.5</td>\n",
       "      <td>0.0</td>\n",
       "      <td>1.0</td>\n",
       "      <td>200.0</td>\n",
       "      <td>80.0</td>\n",
       "      <td>44.835703</td>\n",
       "      <td>0.936833</td>\n",
       "      <td>0.091</td>\n",
       "    </tr>\n",
       "    <tr>\n",
       "      <th>2</th>\n",
       "      <td>6.0</td>\n",
       "      <td>17.0</td>\n",
       "      <td>12.0</td>\n",
       "      <td>38.5</td>\n",
       "      <td>0.0</td>\n",
       "      <td>1.0</td>\n",
       "      <td>200.0</td>\n",
       "      <td>108.0</td>\n",
       "      <td>44.835703</td>\n",
       "      <td>0.936833</td>\n",
       "      <td>0.100</td>\n",
       "    </tr>\n",
       "    <tr>\n",
       "      <th>3</th>\n",
       "      <td>6.0</td>\n",
       "      <td>17.0</td>\n",
       "      <td>12.0</td>\n",
       "      <td>38.5</td>\n",
       "      <td>0.0</td>\n",
       "      <td>1.0</td>\n",
       "      <td>200.0</td>\n",
       "      <td>91.0</td>\n",
       "      <td>44.835703</td>\n",
       "      <td>0.936833</td>\n",
       "      <td>0.115</td>\n",
       "    </tr>\n",
       "    <tr>\n",
       "      <th>4</th>\n",
       "      <td>6.0</td>\n",
       "      <td>17.0</td>\n",
       "      <td>12.0</td>\n",
       "      <td>38.5</td>\n",
       "      <td>0.0</td>\n",
       "      <td>1.0</td>\n",
       "      <td>200.0</td>\n",
       "      <td>165.0</td>\n",
       "      <td>44.835703</td>\n",
       "      <td>0.936833</td>\n",
       "      <td>0.118</td>\n",
       "    </tr>\n",
       "  </tbody>\n",
       "</table>\n",
       "</div>"
      ],
      "text/plain": [
       "    WC   DUW    GC    AF    C   LB   LKpa   TMin         DR        DB   Sett\n",
       "0  6.0  17.0  12.0  38.5  0.0  1.0  200.0   42.0  44.835703  0.936833  0.082\n",
       "1  6.0  17.0  12.0  38.5  0.0  1.0  200.0   80.0  44.835703  0.936833  0.091\n",
       "2  6.0  17.0  12.0  38.5  0.0  1.0  200.0  108.0  44.835703  0.936833  0.100\n",
       "3  6.0  17.0  12.0  38.5  0.0  1.0  200.0   91.0  44.835703  0.936833  0.115\n",
       "4  6.0  17.0  12.0  38.5  0.0  1.0  200.0  165.0  44.835703  0.936833  0.118"
      ]
     },
     "execution_count": 3,
     "metadata": {},
     "output_type": "execute_result"
    }
   ],
   "source": [
    "train_df.head()"
   ]
  },
  {
   "cell_type": "code",
   "execution_count": 4,
   "id": "7e0c9963",
   "metadata": {},
   "outputs": [],
   "source": [
    "# load the model from disk\n",
    "def load_predict_model(filename, X,y):\n",
    "    model = pickle.load(open(filename, 'rb'))\n",
    "    #result = loaded_model.score(X_test, Y_test)\n",
    "    scaler = MinMaxScaler(copy=True, feature_range=(0, 1))\n",
    "    X = scaler.fit_transform(X)\n",
    "    y_pred=model.predict(X)\n",
    "    Columns_df=['WC', 'DUW' , 'GC' , 'AF', 'C' , 'LB' , 'LKpa' ,'TMin','DB']\n",
    "    X = pd.DataFrame(X,columns=Columns_df)\n",
    "    X['Y']=y    \n",
    "    X['Y_hat']=y_pred\n",
    "    return X"
   ]
  },
  {
   "cell_type": "code",
   "execution_count": 5,
   "id": "9fa7dd07",
   "metadata": {},
   "outputs": [],
   "source": [
    "# load the model from disk\n",
    "def load_predict_modelDNN(X,y):\n",
    "    new_model = tf.keras.models.load_model('Model/DNN_Model.model')\n",
    "    #result = loaded_model.score(X_test, Y_test)\n",
    "    y_pred=new_model.predict(X)\n",
    "    Columns_df=['WC', 'DUW' , 'GC' , 'AF', 'C' , 'LB' , 'LKpa' ,'TMin','DB']\n",
    "    X=X.transpose(2,0,1).reshape(X.shape[0],-1)\n",
    "    X = pd.DataFrame(X,columns=Columns_df)\n",
    "    X['Y']=y    \n",
    "    X['Y_hat']=y_pred\n",
    "    return X"
   ]
  },
  {
   "cell_type": "code",
   "execution_count": 6,
   "id": "dee9aa21",
   "metadata": {},
   "outputs": [],
   "source": [
    "def prepare_data(data):\n",
    "    scaler = MinMaxScaler(copy=True, feature_range=(0, 1))\n",
    "    train_df_Scal = scaler.fit_transform(data)\n",
    "    X = pd.DataFrame(train_df_Scal)\n",
    "    X_New = X.to_numpy()\n",
    "    X_New= X_New.reshape(X_New.shape[0], X_New.shape[1], 1)\n",
    "    return X_New"
   ]
  },
  {
   "cell_type": "code",
   "execution_count": 7,
   "id": "77cafd4e",
   "metadata": {},
   "outputs": [],
   "source": [
    "X=train_df.drop(['Sett','DR'], axis=1)\n",
    "y=train_df.Sett"
   ]
  },
  {
   "cell_type": "code",
   "execution_count": 11,
   "id": "9a2aa104",
   "metadata": {},
   "outputs": [],
   "source": [
    "List_Model=['Ensembel_model.sav','Lasso_model.sav','LR_model.sav','MLPRegressorModel_model.sav'\n",
    "            ,'Ridge_model.sav','SVR_model.sav']\n",
    "for model in List_Model:\n",
    "    data=load_predict_model('Model/'+model,X,y)\n",
    "    path=r'DataPredict/'+model+'.csv'\n",
    "    if not os.path.isfile(path):\n",
    "        data.to_csv(path, index = False)\n",
    "    "
   ]
  },
  {
   "cell_type": "code",
   "execution_count": null,
   "id": "3b672cc5",
   "metadata": {},
   "outputs": [],
   "source": [
    "X=train_df.drop(['Sett','DR'], axis=1)\n",
    "y=train_df.Sett\n",
    "X=prepare_data(X)\n",
    "data=load_predict_modelDNN(X,y)\n",
    "path=r'DataPredict/DNN_Model.csv'\n",
    "if not os.path.isfile(path):\n",
    "    data.to_csv(path, index = False)"
   ]
  }
 ],
 "metadata": {
  "kernelspec": {
   "display_name": "Python 3",
   "language": "python",
   "name": "python3"
  },
  "language_info": {
   "codemirror_mode": {
    "name": "ipython",
    "version": 3
   },
   "file_extension": ".py",
   "mimetype": "text/x-python",
   "name": "python",
   "nbconvert_exporter": "python",
   "pygments_lexer": "ipython3",
   "version": "3.8.8"
  }
 },
 "nbformat": 4,
 "nbformat_minor": 5
}
